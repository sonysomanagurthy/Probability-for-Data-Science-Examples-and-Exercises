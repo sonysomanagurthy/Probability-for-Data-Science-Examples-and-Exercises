{
  "nbformat": 4,
  "nbformat_minor": 0,
  "metadata": {
    "colab": {
      "provenance": []
    },
    "kernelspec": {
      "name": "python3",
      "display_name": "Python 3"
    },
    "language_info": {
      "name": "python"
    }
  },
  "cells": [
    {
      "cell_type": "code",
      "source": [
        "#Q23) Calculate the t scores of 95% confidence interval, \n",
        "#96% confidence interval, 99% confidence interval for sample size of 25"
      ],
      "metadata": {
        "id": "u9Svi8rWri6j"
      },
      "execution_count": null,
      "outputs": []
    },
    {
      "cell_type": "code",
      "source": [
        "import scipy.stats as stats\n",
        "\n",
        "sample_size = 25\n",
        "degrees_of_freedom = sample_size - 1\n",
        "\n",
        "# 95% CI t-score\n",
        "ci_95 = 0.95\n",
        "t_score_95 = stats.t.ppf((1 + ci_95) / 2, degrees_of_freedom)\n",
        "\n",
        "# 96% CI t-score\n",
        "ci_96 = 0.96\n",
        "t_score_96 = stats.t.ppf((1 + ci_96) / 2, degrees_of_freedom)\n",
        "\n",
        "# 99% CI t-score\n",
        "ci_99 = 0.99\n",
        "t_score_99 = stats.t.ppf((1 + ci_99) / 2, degrees_of_freedom)\n",
        "\n",
        "print(\"T-scores for 95% CI, 96% CI, and 99% CI with sample size of 25:\")\n",
        "print(\"95% CI t-score:\", round(t_score_95, 3))\n",
        "print(\"96% CI t-score:\", round(t_score_96, 3))\n",
        "print(\"99% CI t-score:\", round(t_score_99, 3))\n"
      ],
      "metadata": {
        "colab": {
          "base_uri": "https://localhost:8080/"
        },
        "id": "jC8DLk85rfnS",
        "outputId": "777710ef-3677-4a0e-d085-0df6cc6a055c"
      },
      "execution_count": 4,
      "outputs": [
        {
          "output_type": "stream",
          "name": "stdout",
          "text": [
            "T-scores for 95% CI, 96% CI, and 99% CI with sample size of 25:\n",
            "95% CI t-score: 2.064\n",
            "96% CI t-score: 2.172\n",
            "99% CI t-score: 2.797\n"
          ]
        }
      ]
    },
    {
      "cell_type": "code",
      "source": [
        "#Q24\n",
        "import scipy.stats as stats\n",
        "import math\n",
        "\n",
        "# Population mean under the null hypothesis\n",
        "mu = 270\n",
        "\n",
        "# Sample mean and standard deviation\n",
        "x_bar = 260\n",
        "s = 90\n",
        "\n",
        "# Sample size\n",
        "n = 18\n",
        "\n",
        "# Calculate the t-statistic\n",
        "t = (x_bar - mu) / (s / math.sqrt(n))\n",
        "\n",
        "# Degrees of freedom\n",
        "df = n - 1\n",
        "\n",
        "# Calculate the p-value\n",
        "p_value = stats.t.cdf(t, df)\n",
        "\n",
        "print(\"The probability of observing a sample mean of no more than 260 days if the CEO's claim were true is:\", p_value)\n"
      ],
      "metadata": {
        "colab": {
          "base_uri": "https://localhost:8080/"
        },
        "id": "6qHGbB-wsWWI",
        "outputId": "aadf8323-a07c-4154-9cc0-b4bb668aec08"
      },
      "execution_count": 6,
      "outputs": [
        {
          "output_type": "stream",
          "name": "stdout",
          "text": [
            "The probability of observing a sample mean of no more than 260 days if the CEO's claim were true is: 0.32167253567098364\n"
          ]
        }
      ]
    },
    {
      "cell_type": "code",
      "source": [],
      "metadata": {
        "id": "wK9Ikxx4sgK3"
      },
      "execution_count": null,
      "outputs": []
    }
  ]
}